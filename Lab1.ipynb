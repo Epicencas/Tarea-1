{
  "nbformat": 4,
  "nbformat_minor": 0,
  "metadata": {
    "colab": {
      "name": "Lab1.ipynb",
      "provenance": [],
      "collapsed_sections": [],
      "authorship_tag": "ABX9TyO/16zEsjMILDrGW6ITrm9N",
      "include_colab_link": true
    },
    "kernelspec": {
      "name": "python3",
      "display_name": "Python 3"
    },
    "language_info": {
      "name": "python"
    }
  },
  "cells": [
    {
      "cell_type": "markdown",
      "metadata": {
        "id": "view-in-github",
        "colab_type": "text"
      },
      "source": [
        "<a href=\"https://colab.research.google.com/github/Epicencas/Tarea-1/blob/main/Lab1.ipynb\" target=\"_parent\"><img src=\"https://colab.research.google.com/assets/colab-badge.svg\" alt=\"Open In Colab\"/></a>"
      ]
    },
    {
      "cell_type": "code",
      "execution_count": null,
      "metadata": {
        "id": "Ybd8YB97v5aJ"
      },
      "outputs": [],
      "source": [
        ""
      ]
    },
    {
      "cell_type": "markdown",
      "source": [
        "# **Problema 1**\n",
        "\n",
        "Haga un programa en Python que reciba de parámetro un número de segundos y que despliegue en pantalla, las horas, minutos y segundos que representan.\n",
        "\n",
        "Para completar su programa escriba otra regla que lea los segundos del teclado y mande a llamar la regla anterior."
      ],
      "metadata": {
        "id": "sO-ixDirwtBp"
      }
    },
    {
      "cell_type": "code",
      "source": [
        "# El programa pide los segundos, se dividen por 3,600 para obtener las horas, el operador // nos da el cociente.\n",
        "# Para los minutos se obtiene el residuo con el operador % y luego se obtiene el cociente de dividorlo por 60\n",
        "# Para los segundo se hace un diferencia entre la división de los minutos y el cociente de los minutos y el residuo se multiplica por 60\n",
        "# Se añade un try y except para evitar error al ingresar letras.\n",
        "# Se define la función secs con el arguneto Entrada \n",
        "def secs(Entrada):\n",
        "  try:\n",
        "    Entrada = int(input(\"Ingrese la cantidad de segundos: \"))\n",
        "    Horas = Entrada // 3600\n",
        "    Minutos = Entrada % 3600 // 60\n",
        "    Segundos = round(((Entrada % 3600 / 60) - (Entrada % 3600 // 60)) *60)\n",
        "    print(\"Horas: \", Horas)\n",
        "    print(\"Minutos \", Minutos)\n",
        "    print(\"Segundos\", Segundos)\n",
        "  except(ValueError):\n",
        "    print(\"Los datos no son validos.\")"
      ],
      "metadata": {
        "id": "D-18gO916rn-"
      },
      "execution_count": 130,
      "outputs": []
    },
    {
      "cell_type": "code",
      "source": [
        "# Se llama la función secs\n",
        "secs(1)"
      ],
      "metadata": {
        "colab": {
          "base_uri": "https://localhost:8080/"
        },
        "id": "6A5P_HoQ7qwF",
        "outputId": "e6577298-730c-48d1-998c-67292ddfdc93"
      },
      "execution_count": 131,
      "outputs": [
        {
          "output_type": "stream",
          "name": "stdout",
          "text": [
            "Ingrese la cantidad de segundos: 3000\n",
            "Horas:  0\n",
            "Minutos  50\n",
            "Segundos 0\n"
          ]
        }
      ]
    },
    {
      "cell_type": "markdown",
      "source": [
        "# **Problema 2**\n",
        "\n",
        "Haga un programa en Python que permita el ingreso de las calificaciones de una evaluación del curso de Ciencia de Datos en Python, el programa debe desplegar un mensaje en función de la nota ingresada. Además de eso si la calificación es reprobada ósea menor a 71, se debe calcular la diferencia entre la nota de aprobación y la calificación ingresada."
      ],
      "metadata": {
        "id": "Xf8xYA17eOIM"
      }
    },
    {
      "cell_type": "code",
      "source": [
        "# Se añade un try y except para evitar error al ingresar letras.\n",
        "# Se pide al usuario ingresar la nota, se definen las condiciones de la nota.\n",
        "# Si la nota es menor a 71 indica cuánto hizo falta para aprobar\n",
        "try: \n",
        "  Nota = int(input(\"Ingrese la nota: \"))\n",
        "  if((Nota > 90) and (Nota <= 100)):\n",
        "    print(\"Sobresaliente\")\n",
        "  elif((Nota > 70) and (Nota <= 90)):\n",
        "    print(\"Muy Bien\")\n",
        "  elif((Nota > 60) and (Nota <= 70)):\n",
        "    diferencia = 71 - Nota\n",
        "    print(\"Bien\")\n",
        "    print(\"Para aprobar faltaron \" + str(diferencia) + \" puntos\")\n",
        "  elif((Nota > 50) and (Nota <= 60)):\n",
        "    diferencia = 71 - Nota\n",
        "    print(\"Regular\")\n",
        "    print(\"Para aprobar faltaron \" + str(diferencia) + \" puntos\")\n",
        "  elif(Nota > 100):\n",
        "    print(\"La nota no puede ser mayor a 100\")\n",
        "  else:\n",
        "    diferencia = 71 - Nota\n",
        "    print(\"Insuficiente\")\n",
        "    print(\"Para aprobar faltaron \" + str(diferencia) + \" puntos\")\n",
        "except (ValueError):\n",
        "  print(\"El dato no es valido.\")"
      ],
      "metadata": {
        "colab": {
          "base_uri": "https://localhost:8080/"
        },
        "id": "yugPC8-VeVzC",
        "outputId": "43a20024-431f-4f6b-a6d2-f876219d2b8c"
      },
      "execution_count": 13,
      "outputs": [
        {
          "output_type": "stream",
          "name": "stdout",
          "text": [
            "Ingrese la nota: 70\n",
            "Bien\n",
            "Para aprobar faltaron 1 puntos\n"
          ]
        }
      ]
    },
    {
      "cell_type": "markdown",
      "source": [
        "# **Problema 3**\n",
        "\n",
        "Haga un programa en Python que dados dos números ingresados por el usuario, el primero mayor que el segundo, calcular y mostrar la suma de todos los números comprendidos entre ambos."
      ],
      "metadata": {
        "id": "v8XoB2f-l6Nd"
      }
    },
    {
      "cell_type": "code",
      "source": [
        "# Se añade un try y except para evitar error al ingresar letras.\n",
        "# Se piden dos números tomando en cuenta que el primero debe ser mayor que el segundo\n",
        "# Inicia el ciclo en cero, y termina en la diferencia de los números más 1.\n",
        "# Se define la variable suma en 0 y luego irá adicionando el resultado.\n",
        "try:\n",
        "  Num1 = int(input(\"Ingrese el primer número: \"))\n",
        "  Num2 = int(input(\"Ingrese el segundo número: \"))\n",
        "  if(Num1 < Num2):\n",
        "    print(\"El primer número debe ser mayor al primero\")\n",
        "  else:\n",
        "    suma = 0\n",
        "  for i in range(0, ((Num1 - Num2) +1), 1):\n",
        "    suma = suma + (Num2 + i)\n",
        "  print(suma)\n",
        "except(ValueError):\n",
        "  print(\"Debe ingresar un número\")"
      ],
      "metadata": {
        "colab": {
          "base_uri": "https://localhost:8080/"
        },
        "id": "1JgCSSgfl-py",
        "outputId": "72c25998-fd85-46c6-8837-2d533c27b5a8"
      },
      "execution_count": 134,
      "outputs": [
        {
          "output_type": "stream",
          "name": "stdout",
          "text": [
            "Ingrese el primer número: 12\n",
            "Ingrese el segundo número: 100\n",
            "El primer número debe ser mayor al primero\n",
            "12\n"
          ]
        }
      ]
    },
    {
      "cell_type": "markdown",
      "source": [
        "# **Problema 4**\n",
        "\n",
        "Haga un programa en Python que lea un número mayor que 0 y despliegue todos sus factores."
      ],
      "metadata": {
        "id": "dcbG_MVPzjAv"
      }
    },
    {
      "cell_type": "code",
      "source": [
        "# Se añade un try y except para evitar error al ingresar letras.\n",
        "# Se condiciona que el número debe ser mayor a 0\n",
        "# Se pide un número al usuario. Se crea una lista vacía para añadir aquellos números que dividan al número y su módulo sea exactamente 0.\n",
        "# Se define Num2 como los números que dividiran al numero ingresado y disminuirá de 1 en 1\n",
        "try:\n",
        "  Num = int(input(\"Ingrese un número: \"))\n",
        "  List1 = []\n",
        "  if(Num <= 0):\n",
        "    print(\"Ingrese un número mayor que 0\")\n",
        "  else:\n",
        "    Num2 = Num\n",
        "  while (Num2 > 0):\n",
        "    Factor = Num // Num2\n",
        "    if(Num % Num2 == 0):\n",
        "      List1.append(Factor)\n",
        "      Num2 = Num2 - 1\n",
        "    else:\n",
        "      Num2 = Num2 - 1\n",
        "  print(\"Factores: \", List1)\n",
        "except(ValueError):\n",
        "  print(\"El dato no es válido\")"
      ],
      "metadata": {
        "colab": {
          "base_uri": "https://localhost:8080/"
        },
        "id": "sGpy1PL-zkzn",
        "outputId": "09fd9e57-18bf-4412-f3ab-64fd19a60611"
      },
      "execution_count": 33,
      "outputs": [
        {
          "output_type": "stream",
          "name": "stdout",
          "text": [
            "Ingrese un número: 12\n",
            "Factores:  [1, 2, 3, 4, 6, 12]\n"
          ]
        }
      ]
    },
    {
      "cell_type": "markdown",
      "source": [
        "# **Problema 5**\n",
        "\n",
        "Haga un programa en Python que la fecha de nacimiento de una persona (puede ingresar por separado cada valor, es decir pedir primero día, luego mes y luego año), despliegue la edad de la persona en años, meses y días. Su resultado puede ser aproximado.\n"
      ],
      "metadata": {
        "id": "F_jBJ5gfwbI0"
      }
    },
    {
      "cell_type": "code",
      "source": [
        "# Se añade un try y except para evitar error al ingresar letras.\n",
        "# Se llama la librería datetime para poder obtener la fecha actual, año, mes y día\n",
        "# Se pide la fecha de nacimiento separado en año, mes y día\n",
        "# Se obtiene por separado, el dia, mes y año actuales\n",
        "# Se condiciona valores coherentes de la fecha de nacimeinto\n",
        "# Se convierten a segundos la fecha de nacimiento y la fecha actual\n",
        "# Se condiciona que los segundos de la fecha de nacimieno no puede ser mayor a los segundos de la fecha de nacimeinto.\n",
        "# La diferencia se convierte a días, meses y años\n",
        "\n",
        "from datetime import date\n",
        "from datetime import datetime\n",
        "\n",
        "try: \n",
        "  Año = int(input(\"Ingrese el año de nacimiento: \"))\n",
        "  Mes = int(input(\"Ingrese el mes de nacimiento: \"))\n",
        "  Dia = int(input(\"Ingrese el dia de nacimiento: \"))\n",
        "\n",
        "  today = date.today()\n",
        "  diah = today.day\n",
        "  mesh = today.month\n",
        "  anyo = today.year\n",
        "\n",
        "  if((Dia < 0) or (Dia > 30)):\n",
        "      Dia = int(\"a\")\n",
        "  if((Mes < 0) or (Mes > 12)):\n",
        "      Mes = int(\"b\")\n",
        "  if((Año < 0) or (Año > anyo)):\n",
        "      Año = int(\"c\")\n",
        " \n",
        "  edadseg = Año * 3.154e+7 + Mes * 2.628e+6 + Dia * 86400\n",
        "  seghoy =  anyo * 3.154e+7 + mesh * 2.628e+6 + diah * 86400\n",
        "\n",
        "  if(seghoy < edadseg):\n",
        "    edad = int(\"c\")\n",
        "  else:\n",
        "    edad = seghoy - edadseg\n",
        "\n",
        "  AñoE = edad // 3.154e+7\n",
        "  MesE = (edad % 3.154e+7) // 2.628e+6\n",
        "  DiaE = round(((edad % 3.154e+7 / 2.628e+6 ) - (edad % 3.154e+7 // 2.628e+6 )) * 30)\n",
        "  \n",
        "  print(\"La edad de la persona es: \", AñoE, \" años \", MesE, \" meses y \", DiaE, \" dias.\")\n",
        "\n",
        "except(ValueError):\n",
        "    print(\"Intente de nuevo ingresando datos válidos\")\n"
      ],
      "metadata": {
        "colab": {
          "base_uri": "https://localhost:8080/"
        },
        "id": "noHlj6Rp7xIy",
        "outputId": "d4ef898c-5963-499b-a31f-476d354ba583"
      },
      "execution_count": 137,
      "outputs": [
        {
          "output_type": "stream",
          "name": "stdout",
          "text": [
            "Ingrese el año de nacimiento: 1988\n",
            "Ingrese el mes de nacimiento: 12\n",
            "Ingrese el dia de nacimiento: 12\n",
            "La edad de la persona es:  33.0  años  2.0  meses y  8  dias.\n"
          ]
        }
      ]
    },
    {
      "cell_type": "markdown",
      "source": [
        "# **Problema 6**\n",
        "\n",
        "Haga un programa en Python que dado un número entre 1 y 20. Y un carácter cualquiera despliegue cuatro patrones triangulares."
      ],
      "metadata": {
        "id": "8AxDJnl78jw-"
      }
    },
    {
      "cell_type": "code",
      "source": [
        "# Se añade un try y except para evitar error al ingresar letras.\n",
        "# Se pide el caracter al usuario.\n",
        "# Se pide un número, pero si el mismo no está en el rango de 1 a 20 indicará que debe ingresar el número nuevamente.\n",
        "# Con un ciclo for se definirá la cantidad de niveles del patrón. El mismo inicia desde 1 hasta el número indicado.\n",
        "# Cada patrón se definió como p y se multiplicó por el iterador, en el primero iniciando desde 1, mientras que el segundo inicia desde el número ingresado.\n",
        "# El patrón 3 y 4 son una vista en espejo del 1 y del 2.\n",
        "# El patron 5 simplimente es un espacio que dividirá a los patrones 2 y 3.\n",
        "# La función ljust permite añadir al patrón 1 espacios a la derecha sumando el número más el iterador más 3, siempre hay 5 espacios entre un pagron y otro.\n",
        "# La función rjust permite añdir al pagrón 4 espacios a la izquierda sumando el número más el iterador más 3, siempre hay 5 espacios entre un pagron y otro.\n",
        "Char = input(\"Ingrese un caracter: \")\n",
        "Num = int(input(\"Ingrese un número entre 1 y 20: \"))\n",
        "if ((Num < 1) or (Num>20)):\n",
        "  print(\"El número no está dentro del rango indicado, intentelo de nuevo.\")\n",
        "else:\n",
        "  for i in range(1, Num + 1, 1):\n",
        "    p1 = Char * i\n",
        "    p2 = Char * (Num + 1 - i)\n",
        "    p3 = Char * (Num + 1 - i)\n",
        "    p4 = Char * i\n",
        "    p5 = \" \"\n",
        "    print(p1.ljust(Num + i + 3), p2, p5.ljust(3), p3, p4.rjust(Num + i + 3))\n",
        " \n"
      ],
      "metadata": {
        "colab": {
          "base_uri": "https://localhost:8080/"
        },
        "id": "rFi-ASyG9HGo",
        "outputId": "f2658543-8320-4a21-b588-1a420824e1a1"
      },
      "execution_count": 132,
      "outputs": [
        {
          "output_type": "stream",
          "name": "stdout",
          "text": [
            "Ingrese un caracter: !\n",
            "Ingrese un número entre 1 y 20: 1\n",
            "!     !     !     !\n"
          ]
        }
      ]
    }
  ]
}